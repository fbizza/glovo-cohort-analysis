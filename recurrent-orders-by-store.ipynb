{
 "cells": [
  {
   "cell_type": "code",
   "id": "initial_id",
   "metadata": {
    "collapsed": true,
    "ExecuteTime": {
     "end_time": "2024-08-06T16:17:58.178768Z",
     "start_time": "2024-08-06T16:17:58.173020Z"
    }
   },
   "source": [
    "import trino\n",
    "import pandas as pd\n",
    "import warnings\n",
    "from datetime import datetime\n",
    "from dateutil.relativedelta import relativedelta\n",
    "from tqdm import tqdm\n",
    "\n",
    "# you need not change these\n",
    "HOST = 'starburst.g8s-data-platform-prod.glovoint.com'\n",
    "PORT = 443\n",
    "\n",
    "conn_details = {\n",
    "    'host': HOST,\n",
    "    'port': PORT,\n",
    "    'http_scheme': 'https',\n",
    "    'auth': trino.auth.OAuth2Authentication()\n",
    "}"
   ],
   "outputs": [],
   "execution_count": 46
  },
  {
   "metadata": {
    "ExecuteTime": {
     "end_time": "2024-08-06T16:18:07.738973Z",
     "start_time": "2024-08-06T16:18:07.733766Z"
    }
   },
   "cell_type": "code",
   "source": [
    "def get_recurrent_customers_for_period(period_start_date, period_end_date):\n",
    "    sql_query = f\"\"\"\n",
    "    WITH nc as (\n",
    "    SELECT DISTINCT customer_id\n",
    "    FROM delta.central_order_descriptors_odp.order_descriptors_v2\n",
    "    WHERE order_country_code = 'PL'\n",
    "      AND order_final_status = 'DeliveredStatus'\n",
    "      AND order_parent_relationship_type IS NULL\n",
    "      AND order_is_first_delivered_order = true\n",
    "      AND order_started_local_at < DATE '{period_end_date}' and order_started_local_at >= DATE '{period_start_date}'\n",
    "),\n",
    "    rc AS (\n",
    "    SELECT DISTINCT customer_id\n",
    "    FROM delta.central_order_descriptors_odp.order_descriptors_v2\n",
    "    WHERE order_country_code = 'PL'\n",
    "      AND order_final_status = 'DeliveredStatus'\n",
    "      AND order_parent_relationship_type IS NULL\n",
    "      AND order_started_local_at < DATE '{period_end_date}' and order_started_local_at >= DATE '{period_start_date}'\n",
    "    EXCEPT\n",
    "    SELECT * FROM nc\n",
    "),\n",
    "    first_monthly_order_date_rc AS (\n",
    "    SELECT customer_id, date(MIN(order_started_local_at)) AS monthly_first_order_date\n",
    "    FROM delta.central_order_descriptors_odp.order_descriptors_v2\n",
    "    WHERE customer_id IN (SELECT customer_id FROM rc)\n",
    "    AND order_started_local_at < DATE '{period_end_date}' and order_started_local_at >= DATE '{period_start_date}'\n",
    "    GROUP BY customer_id\n",
    "),\n",
    "    last_order_before_first AS (\n",
    "    SELECT a.customer_id, date(MAX(b.order_started_local_at)) AS last_order_date\n",
    "    FROM first_monthly_order_date_rc a\n",
    "    LEFT JOIN delta.central_order_descriptors_odp.order_descriptors_v2 b ON a.customer_id = b.customer_id\n",
    "    WHERE b.order_started_local_at < a.monthly_first_order_date\n",
    "    GROUP BY a.customer_id\n",
    "),\n",
    "    rc_categorization AS (\n",
    "    SELECT\n",
    "        a.customer_id,\n",
    "        a.monthly_first_order_date,\n",
    "        b.last_order_date,\n",
    "        CASE\n",
    "            WHEN DATE_DIFF('day', b.last_order_date, a.monthly_first_order_date) <= 28 THEN 'Ongoing'\n",
    "            WHEN DATE_DIFF('day', b.last_order_date, a.monthly_first_order_date) > 28 THEN 'Reactivated'\n",
    "        END AS customer_status\n",
    "    FROM first_monthly_order_date_rc a\n",
    "    JOIN last_order_before_first b ON a.customer_id = b.customer_id\n",
    "),\n",
    "    ongoing_customers AS (\n",
    "        SELECT customer_id\n",
    "        FROM rc_categorization\n",
    "        WHERE customer_status = 'Ongoing'\n",
    "),\n",
    "    reactivated_customers AS (\n",
    "        SELECT customer_id\n",
    "        FROM rc_categorization\n",
    "        WHERE customer_status = 'Reactivated'\n",
    ")\n",
    "\n",
    "SELECT 'Ongoing' as status, customer_id FROM ongoing_customers\n",
    "UNION ALL\n",
    "SELECT 'Reactivated' as status, customer_id FROM reactivated_customers\"\"\"  \n",
    "    with trino.dbapi.connect(**conn_details) as conn:\n",
    "        df = pd.read_sql_query(sql_query, conn)\n",
    "    return df\n",
    "\n",
    "# with warnings.catch_warnings():\n",
    "#     warnings.simplefilter(\"ignore\", category=UserWarning)\n",
    "#     print(\"Running the query...\")\n",
    "#     recurrent_customers = get_recurrent_customers_for_period(START, END)\n",
    "#     print(\"Completed\")"
   ],
   "id": "c9c8ae637b3101df",
   "outputs": [],
   "execution_count": 47
  },
  {
   "metadata": {
    "ExecuteTime": {
     "end_time": "2024-08-06T15:48:15.027563Z",
     "start_time": "2024-08-06T15:48:15.022160Z"
    }
   },
   "cell_type": "code",
   "source": "print(recurrent_customers)",
   "id": "eb7ca51053f1bbcc",
   "outputs": [
    {
     "name": "stdout",
     "output_type": "stream",
     "text": [
      "             status  customer_id\n",
      "0       Reactivated    114768334\n",
      "1       Reactivated     46270496\n",
      "2       Reactivated    134224443\n",
      "3       Reactivated    108782107\n",
      "4       Reactivated    106586057\n",
      "...             ...          ...\n",
      "623033      Ongoing    171848478\n",
      "623034      Ongoing    171794236\n",
      "623035      Ongoing    108452002\n",
      "623036      Ongoing    170966828\n",
      "623037      Ongoing    165845529\n",
      "\n",
      "[623038 rows x 2 columns]\n"
     ]
    }
   ],
   "execution_count": 24
  },
  {
   "metadata": {
    "ExecuteTime": {
     "end_time": "2024-08-06T16:39:28.364678Z",
     "start_time": "2024-08-06T16:36:49.086283Z"
    }
   },
   "cell_type": "code",
   "source": [
    "\n",
    "# Dictionary to store dataframes\n",
    "all_customers = {}\n",
    "\n",
    "# Set current_date to the last day of the previous month\n",
    "current_date = datetime.now().replace(day=1) - relativedelta(days=1)\n",
    "\n",
    "# Loop through the past 13 months\n",
    "\n",
    "with warnings.catch_warnings():\n",
    "    warnings.simplefilter(\"ignore\", category=UserWarning)\n",
    "    for i in tqdm(range(2), desc=\"Processing queries\"):\n",
    "        end_date = current_date - relativedelta(months=i)\n",
    "        start_date = end_date.replace(day=1)  # Set to the first day of the month\n",
    "        start_date_str = str(start_date.strftime('%Y-%m-%d'))\n",
    "        end_date_str = str(end_date.strftime('%Y-%m-%d'))\n",
    "        print(start_date_str)\n",
    "        print(end_date_str)\n",
    "        df = get_recurrent_customers_for_period(start_date_str, end_date_str)\n",
    "        all_customers[f\"{start_date_str} to {end_date_str}\"] = df\n",
    "    print(\"Completed processing all periods.\")\n",
    "\n"
   ],
   "id": "b84e847524276378",
   "outputs": [
    {
     "name": "stderr",
     "output_type": "stream",
     "text": [
      "Processing queries:   0%|          | 0/2 [00:00<?, ?it/s]"
     ]
    },
    {
     "name": "stdout",
     "output_type": "stream",
     "text": [
      "2024-07-01\n",
      "2024-07-31\n"
     ]
    },
    {
     "name": "stderr",
     "output_type": "stream",
     "text": [
      "Processing queries:  50%|█████     | 1/2 [01:27<01:27, 87.32s/it]"
     ]
    },
    {
     "name": "stdout",
     "output_type": "stream",
     "text": [
      "2024-06-01\n",
      "2024-06-30\n"
     ]
    },
    {
     "name": "stderr",
     "output_type": "stream",
     "text": [
      "Processing queries: 100%|██████████| 2/2 [02:39<00:00, 79.63s/it]"
     ]
    },
    {
     "name": "stdout",
     "output_type": "stream",
     "text": [
      "Completed processing all periods.\n"
     ]
    },
    {
     "name": "stderr",
     "output_type": "stream",
     "text": [
      "\n"
     ]
    }
   ],
   "execution_count": 69
  },
  {
   "metadata": {
    "ExecuteTime": {
     "end_time": "2024-08-06T16:39:32.104653Z",
     "start_time": "2024-08-06T16:39:32.098625Z"
    }
   },
   "cell_type": "code",
   "source": "print(all_customers)",
   "id": "78927309932d0daa",
   "outputs": [
    {
     "name": "stdout",
     "output_type": "stream",
     "text": [
      "{'2024-07-01 to 2024-07-31':              status  customer_id\n",
      "0       Reactivated     35089135\n",
      "1       Reactivated     30452951\n",
      "2       Reactivated     45482466\n",
      "3       Reactivated     44788389\n",
      "4       Reactivated     12607340\n",
      "...             ...          ...\n",
      "614166      Ongoing    172244985\n",
      "614167      Ongoing    172281838\n",
      "614168      Ongoing    172293937\n",
      "614169      Ongoing    148590601\n",
      "614170      Ongoing    169299861\n",
      "\n",
      "[614171 rows x 2 columns], '2024-06-01 to 2024-06-30':              status  customer_id\n",
      "0       Reactivated     11438023\n",
      "1       Reactivated     53095306\n",
      "2       Reactivated     28752807\n",
      "3       Reactivated     50677934\n",
      "4       Reactivated     47693951\n",
      "...             ...          ...\n",
      "666429      Ongoing    137008451\n",
      "666430      Ongoing     66324834\n",
      "666431      Ongoing     51265775\n",
      "666432      Ongoing    149597851\n",
      "666433      Ongoing    162010045\n",
      "\n",
      "[666434 rows x 2 columns]}\n"
     ]
    }
   ],
   "execution_count": 70
  }
 ],
 "metadata": {
  "kernelspec": {
   "display_name": "Python 3",
   "language": "python",
   "name": "python3"
  },
  "language_info": {
   "codemirror_mode": {
    "name": "ipython",
    "version": 2
   },
   "file_extension": ".py",
   "mimetype": "text/x-python",
   "name": "python",
   "nbconvert_exporter": "python",
   "pygments_lexer": "ipython2",
   "version": "2.7.6"
  }
 },
 "nbformat": 4,
 "nbformat_minor": 5
}
